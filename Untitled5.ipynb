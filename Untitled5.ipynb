{
 "cells": [
  {
   "cell_type": "code",
   "execution_count": 26,
   "id": "focused-third",
   "metadata": {},
   "outputs": [
    {
     "data": {
      "application/vnd.jupyter.widget-view+json": {
       "model_id": "1e82d9355dc34ab4a685e6dd100e74be",
       "version_major": 2,
       "version_minor": 0
      },
      "text/plain": [
       "HTML(value='<ul>\\n<li>test1</li>\\n<li>test2</li>\\n</ul>')"
      ]
     },
     "metadata": {},
     "output_type": "display_data"
    }
   ],
   "source": [
    "import ipywidgets as widgets\n",
    "\n",
    "\n",
    "warmings = []\n",
    "warmings.append('test1')\n",
    "warmings.append('test2')\n",
    "\n",
    "def ulify(elements):\n",
    "    string = \"<ul>\\n\"\n",
    "    string += \"\\n\".join([\"<li>\" + str(s) + \"</li>\" for s in elements])\n",
    "    string += \"\\n</ul>\"\n",
    "    return string\n",
    "\n",
    "string = ulify(warmings)\n",
    "string\n",
    "\n",
    "test = widgets.HTML(string)\n",
    "display(test)"
   ]
  },
  {
   "cell_type": "code",
   "execution_count": null,
   "id": "broke-polymer",
   "metadata": {},
   "outputs": [],
   "source": []
  }
 ],
 "metadata": {
  "kernelspec": {
   "display_name": "Python 3",
   "language": "python",
   "name": "python3"
  },
  "language_info": {
   "codemirror_mode": {
    "name": "ipython",
    "version": 3
   },
   "file_extension": ".py",
   "mimetype": "text/x-python",
   "name": "python",
   "nbconvert_exporter": "python",
   "pygments_lexer": "ipython3",
   "version": "3.7.9"
  }
 },
 "nbformat": 4,
 "nbformat_minor": 5
}
