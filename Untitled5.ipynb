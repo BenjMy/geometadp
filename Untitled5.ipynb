{
 "cells": [
  {
   "cell_type": "code",
   "execution_count": 3,
   "id": "incorrect-biotechnology",
   "metadata": {},
   "outputs": [
    {
     "data": {
      "application/vnd.jupyter.widget-view+json": {
       "model_id": "ac5ed899cdb747e4a5880add01760ec6",
       "version_major": 2,
       "version_minor": 0
      },
      "text/plain": [
       "VBox(children=(Map(center=[40, 0], crs={'name': 'EPSG3857', 'custom': False}, default_style=MapStyle(), draggi…"
      ]
     },
     "metadata": {},
     "output_type": "display_data"
    }
   ],
   "source": [
    "from ipyleaflet import Map, basemaps\n",
    "from ipywidgets import Layout, HBox, VBox, FloatText\n",
    "\n",
    "center = [40, 0]\n",
    "\n",
    "m_top = Map(\n",
    "    center=center, zoom=10, \n",
    "    basemap=basemaps.Esri.WorldTopoMap, \n",
    "    attribution_control=False, \n",
    "    zoom_control=False, \n",
    "    layout=Layout(height='800px')\n",
    ")\n",
    "\n",
    "# Create the horizontal container containing the map and the horizontal container\n",
    "vbox = VBox([m_top])\n",
    "\n",
    "# And display it\n",
    "vbox"
   ]
  }
 ],
 "metadata": {
  "kernelspec": {
   "display_name": "Python 3",
   "language": "python",
   "name": "python3"
  },
  "language_info": {
   "codemirror_mode": {
    "name": "ipython",
    "version": 3
   },
   "file_extension": ".py",
   "mimetype": "text/x-python",
   "name": "python",
   "nbconvert_exporter": "python",
   "pygments_lexer": "ipython3",
   "version": "3.7.9"
  }
 },
 "nbformat": 4,
 "nbformat_minor": 5
}
