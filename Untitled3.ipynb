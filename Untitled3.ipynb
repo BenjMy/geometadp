{
 "cells": [
  {
   "cell_type": "code",
   "execution_count": 6,
   "id": "welsh-chart",
   "metadata": {},
   "outputs": [
    {
     "data": {
      "application/vnd.jupyter.widget-view+json": {
       "model_id": "e84bdf40d10d4a4089e983b59a509fa7",
       "version_major": 2,
       "version_minor": 0
      },
      "text/plain": [
       "HBox(children=(Dropdown(layout=Layout(width='10%'), options=('A', 'B', 'C', 'D'), value='A'), Button(descripti…"
      ]
     },
     "metadata": {},
     "output_type": "display_data"
    },
    {
     "data": {
      "application/vnd.jupyter.widget-view+json": {
       "model_id": "6618b50788db420b81d72bd4b26b8f98",
       "version_major": 2,
       "version_minor": 0
      },
      "text/plain": [
       "HBox()"
      ]
     },
     "metadata": {},
     "output_type": "display_data"
    },
    {
     "data": {
      "application/vnd.jupyter.widget-view+json": {
       "model_id": "9cb42592352a4b619ae3551155e3067d",
       "version_major": 2,
       "version_minor": 0
      },
      "text/plain": [
       "Output()"
      ]
     },
     "metadata": {},
     "output_type": "display_data"
    }
   ],
   "source": [
    "import pandas as pd\n",
    "import ipywidgets as widgets\n",
    "from ipywidgets import *\n",
    "from IPython.display import display\n",
    "import numpy as np\n",
    "\n",
    "np.random.seed(0)\n",
    "\n",
    "# Data example\n",
    "my_columns = list('ABCD')\n",
    "df = pd.DataFrame(np.random.randint(0,100,size=(100, 4)), columns=list('ABCD'))\n",
    "\n",
    "\n",
    "# Encapsulate Table inside Output widget\n",
    "\n",
    "table_out = widgets.Output()\n",
    "\n",
    "with table_out:\n",
    "    display(df)\n",
    "\n",
    "\n",
    "# Filter for ints\n",
    "def filter_int(column, x):\n",
    "    return df.loc[df[column] > x]\n",
    "\n",
    "# Our filter generator\n",
    "def generate_filter(button):\n",
    "    # Check if exist before creating\n",
    "    if not select_definition.value in [ asd.children[0].description for asd in filters.children ]:\n",
    "        # Not exist. Create this filter\n",
    "        new_filter = interactive(\n",
    "            filter_int, # Our filter for ints\n",
    "            column=fixed(select_definition.value), # Which column as filter\n",
    "            x=widgets.Text(description=select_definition.value) # Value from the user\n",
    "        )\n",
    "        # Append created filter\n",
    "        filters.children=tuple(list(filters.children) + [new_filter])\n",
    "\n",
    "# Define button and event\n",
    "button = widgets.Button(description=\"Add\")\n",
    "button.on_click(generate_filter)\n",
    "\n",
    "# Define Dropdown \n",
    "select_definition = widgets.Dropdown(options=my_columns, layout=Layout(width='10%'))\n",
    "\n",
    "# Put Dropdown and button together\n",
    "choose_filter = widgets.HBox([select_definition, button])\n",
    "\n",
    "# Where we will put all our filters\n",
    "filters = widgets.HBox()\n",
    "\n",
    "display(choose_filter, filters, table_out)"
   ]
  },
  {
   "cell_type": "code",
   "execution_count": null,
   "id": "comparable-premiere",
   "metadata": {},
   "outputs": [],
   "source": []
  }
 ],
 "metadata": {
  "kernelspec": {
   "display_name": "Python 3",
   "language": "python",
   "name": "python3"
  },
  "language_info": {
   "codemirror_mode": {
    "name": "ipython",
    "version": 3
   },
   "file_extension": ".py",
   "mimetype": "text/x-python",
   "name": "python",
   "nbconvert_exporter": "python",
   "pygments_lexer": "ipython3",
   "version": "3.7.9"
  }
 },
 "nbformat": 4,
 "nbformat_minor": 5
}
