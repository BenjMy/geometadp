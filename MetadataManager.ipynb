{
 "cells": [
  {
   "cell_type": "code",
   "execution_count": 1,
   "metadata": {},
   "outputs": [
    {
     "name": "stdout",
     "output_type": "stream",
     "text": [
      "Collecting git+https://github.com/BenjMy/geometadp.git\n",
      "  Cloning https://github.com/BenjMy/geometadp.git to c:\\users\\gcass\\appdata\\local\\temp\\pip-req-build-ncqljp0_\n",
      "Requirement already satisfied (use --upgrade to upgrade): geometadp==0.1.0.dev0 from git+https://github.com/BenjMy/geometadp.git in c:\\users\\gcass\\anaconda3\\envs\\pg\\lib\\site-packages\n",
      "Requirement already satisfied: dicttoxml in c:\\users\\gcass\\anaconda3\\envs\\pg\\lib\\site-packages (from geometadp==0.1.0.dev0) (1.7.4)\n",
      "Requirement already satisfied: jupyter in c:\\users\\gcass\\anaconda3\\envs\\pg\\lib\\site-packages (from geometadp==0.1.0.dev0) (1.0.0)\n",
      "Requirement already satisfied: ipywidgets in c:\\users\\gcass\\anaconda3\\envs\\pg\\lib\\site-packages (from geometadp==0.1.0.dev0) (7.5.1)\n",
      "Requirement already satisfied: PyQT5 in c:\\users\\gcass\\anaconda3\\envs\\pg\\lib\\site-packages (from geometadp==0.1.0.dev0) (5.12.3)\n",
      "Requirement already satisfied: notebook in c:\\users\\gcass\\anaconda3\\envs\\pg\\lib\\site-packages (from jupyter->geometadp==0.1.0.dev0) (6.1.4)\n",
      "Requirement already satisfied: ipykernel in c:\\users\\gcass\\anaconda3\\envs\\pg\\lib\\site-packages (from jupyter->geometadp==0.1.0.dev0) (5.3.4)\n",
      "Requirement already satisfied: nbconvert in c:\\users\\gcass\\anaconda3\\envs\\pg\\lib\\site-packages (from jupyter->geometadp==0.1.0.dev0) (6.0.7)\n",
      "Requirement already satisfied: qtconsole in c:\\users\\gcass\\anaconda3\\envs\\pg\\lib\\site-packages (from jupyter->geometadp==0.1.0.dev0) (4.7.7)\n",
      "Requirement already satisfied: jupyter-console in c:\\users\\gcass\\anaconda3\\envs\\pg\\lib\\site-packages (from jupyter->geometadp==0.1.0.dev0) (6.2.0)\n",
      "Requirement already satisfied: widgetsnbextension~=3.5.0 in c:\\users\\gcass\\anaconda3\\envs\\pg\\lib\\site-packages (from ipywidgets->geometadp==0.1.0.dev0) (3.5.1)\n",
      "Requirement already satisfied: ipython>=4.0.0; python_version >= \"3.3\" in c:\\users\\gcass\\anaconda3\\envs\\pg\\lib\\site-packages (from ipywidgets->geometadp==0.1.0.dev0) (7.18.1)\n",
      "Requirement already satisfied: traitlets>=4.3.1 in c:\\users\\gcass\\anaconda3\\envs\\pg\\lib\\site-packages (from ipywidgets->geometadp==0.1.0.dev0) (5.0.5)\n",
      "Requirement already satisfied: nbformat>=4.2.0 in c:\\users\\gcass\\anaconda3\\envs\\pg\\lib\\site-packages (from ipywidgets->geometadp==0.1.0.dev0) (5.0.8)\n",
      "Requirement already satisfied: jupyter-client>=5.3.4 in c:\\users\\gcass\\anaconda3\\envs\\pg\\lib\\site-packages (from notebook->jupyter->geometadp==0.1.0.dev0) (6.1.7)\n",
      "Requirement already satisfied: jupyter-core>=4.6.1 in c:\\users\\gcass\\anaconda3\\envs\\pg\\lib\\site-packages (from notebook->jupyter->geometadp==0.1.0.dev0) (4.6.3)\n",
      "Requirement already satisfied: tornado>=5.0 in c:\\users\\gcass\\anaconda3\\envs\\pg\\lib\\site-packages (from notebook->jupyter->geometadp==0.1.0.dev0) (6.0.4)\n",
      "Requirement already satisfied: argon2-cffi in c:\\users\\gcass\\anaconda3\\envs\\pg\\lib\\site-packages (from notebook->jupyter->geometadp==0.1.0.dev0) (20.1.0)\n",
      "Requirement already satisfied: pyzmq>=17 in c:\\users\\gcass\\anaconda3\\envs\\pg\\lib\\site-packages (from notebook->jupyter->geometadp==0.1.0.dev0) (19.0.2)\n",
      "Requirement already satisfied: ipython-genutils in c:\\users\\gcass\\anaconda3\\envs\\pg\\lib\\site-packages (from notebook->jupyter->geometadp==0.1.0.dev0) (0.2.0)\n",
      "Requirement already satisfied: Send2Trash in c:\\users\\gcass\\anaconda3\\envs\\pg\\lib\\site-packages (from notebook->jupyter->geometadp==0.1.0.dev0) (1.5.0)\n",
      "Requirement already satisfied: jinja2 in c:\\users\\gcass\\anaconda3\\envs\\pg\\lib\\site-packages (from notebook->jupyter->geometadp==0.1.0.dev0) (2.11.2)\n",
      "Requirement already satisfied: prometheus-client in c:\\users\\gcass\\anaconda3\\envs\\pg\\lib\\site-packages (from notebook->jupyter->geometadp==0.1.0.dev0) (0.8.0)\n",
      "Requirement already satisfied: terminado>=0.8.3 in c:\\users\\gcass\\anaconda3\\envs\\pg\\lib\\site-packages (from notebook->jupyter->geometadp==0.1.0.dev0) (0.9.1)\n",
      "Requirement already satisfied: pandocfilters>=1.4.1 in c:\\users\\gcass\\anaconda3\\envs\\pg\\lib\\site-packages (from nbconvert->jupyter->geometadp==0.1.0.dev0) (1.4.2)\n",
      "Requirement already satisfied: nbclient<0.6.0,>=0.5.0 in c:\\users\\gcass\\anaconda3\\envs\\pg\\lib\\site-packages (from nbconvert->jupyter->geometadp==0.1.0.dev0) (0.5.1)\n",
      "Requirement already satisfied: defusedxml in c:\\users\\gcass\\anaconda3\\envs\\pg\\lib\\site-packages (from nbconvert->jupyter->geometadp==0.1.0.dev0) (0.6.0)\n",
      "Requirement already satisfied: jupyterlab-pygments in c:\\users\\gcass\\anaconda3\\envs\\pg\\lib\\site-packages (from nbconvert->jupyter->geometadp==0.1.0.dev0) (0.1.2)\n",
      "Requirement already satisfied: bleach in c:\\users\\gcass\\anaconda3\\envs\\pg\\lib\\site-packages (from nbconvert->jupyter->geometadp==0.1.0.dev0) (3.2.1)\n",
      "Requirement already satisfied: mistune<2,>=0.8.1 in c:\\users\\gcass\\anaconda3\\envs\\pg\\lib\\site-packages (from nbconvert->jupyter->geometadp==0.1.0.dev0) (0.8.4)\n",
      "Requirement already satisfied: entrypoints>=0.2.2 in c:\\users\\gcass\\anaconda3\\envs\\pg\\lib\\site-packages (from nbconvert->jupyter->geometadp==0.1.0.dev0) (0.3)\n",
      "Requirement already satisfied: testpath in c:\\users\\gcass\\anaconda3\\envs\\pg\\lib\\site-packages (from nbconvert->jupyter->geometadp==0.1.0.dev0) (0.4.4)\n",
      "Requirement already satisfied: pygments>=2.4.1 in c:\\users\\gcass\\anaconda3\\envs\\pg\\lib\\site-packages (from nbconvert->jupyter->geometadp==0.1.0.dev0) (2.7.1)\n",
      "Requirement already satisfied: qtpy in c:\\users\\gcass\\anaconda3\\envs\\pg\\lib\\site-packages (from qtconsole->jupyter->geometadp==0.1.0.dev0) (1.9.0)\n",
      "Requirement already satisfied: prompt-toolkit!=3.0.0,!=3.0.1,<3.1.0,>=2.0.0 in c:\\users\\gcass\\anaconda3\\envs\\pg\\lib\\site-packages (from jupyter-console->jupyter->geometadp==0.1.0.dev0) (3.0.8)\n",
      "Requirement already satisfied: backcall in c:\\users\\gcass\\anaconda3\\envs\\pg\\lib\\site-packages (from ipython>=4.0.0; python_version >= \"3.3\"->ipywidgets->geometadp==0.1.0.dev0) (0.2.0)\n",
      "Requirement already satisfied: decorator in c:\\users\\gcass\\anaconda3\\envs\\pg\\lib\\site-packages (from ipython>=4.0.0; python_version >= \"3.3\"->ipywidgets->geometadp==0.1.0.dev0) (4.4.2)\n",
      "Requirement already satisfied: pickleshare in c:\\users\\gcass\\anaconda3\\envs\\pg\\lib\\site-packages (from ipython>=4.0.0; python_version >= \"3.3\"->ipywidgets->geometadp==0.1.0.dev0) (0.7.5)\n",
      "Requirement already satisfied: colorama; sys_platform == \"win32\" in c:\\users\\gcass\\anaconda3\\envs\\pg\\lib\\site-packages (from ipython>=4.0.0; python_version >= \"3.3\"->ipywidgets->geometadp==0.1.0.dev0) (0.4.4)\n",
      "Requirement already satisfied: jedi>=0.10 in c:\\users\\gcass\\anaconda3\\envs\\pg\\lib\\site-packages (from ipython>=4.0.0; python_version >= \"3.3\"->ipywidgets->geometadp==0.1.0.dev0) (0.15.2)\n",
      "Requirement already satisfied: setuptools>=18.5 in c:\\users\\gcass\\anaconda3\\envs\\pg\\lib\\site-packages (from ipython>=4.0.0; python_version >= \"3.3\"->ipywidgets->geometadp==0.1.0.dev0) (49.6.0.post20201009)\n",
      "Requirement already satisfied: jsonschema!=2.5.0,>=2.4 in c:\\users\\gcass\\anaconda3\\envs\\pg\\lib\\site-packages (from nbformat>=4.2.0->ipywidgets->geometadp==0.1.0.dev0) (3.2.0)\n",
      "Requirement already satisfied: python-dateutil>=2.1 in c:\\users\\gcass\\anaconda3\\envs\\pg\\lib\\site-packages (from jupyter-client>=5.3.4->notebook->jupyter->geometadp==0.1.0.dev0) (2.8.1)\n",
      "Requirement already satisfied: pywin32>=1.0; sys_platform == \"win32\" in c:\\users\\gcass\\anaconda3\\envs\\pg\\lib\\site-packages (from jupyter-core>=4.6.1->notebook->jupyter->geometadp==0.1.0.dev0) (228)\n",
      "Requirement already satisfied: cffi>=1.0.0 in c:\\users\\gcass\\anaconda3\\envs\\pg\\lib\\site-packages (from argon2-cffi->notebook->jupyter->geometadp==0.1.0.dev0) (1.14.3)\n",
      "Requirement already satisfied: six in c:\\users\\gcass\\anaconda3\\envs\\pg\\lib\\site-packages (from argon2-cffi->notebook->jupyter->geometadp==0.1.0.dev0) (1.15.0)\n",
      "Requirement already satisfied: MarkupSafe>=0.23 in c:\\users\\gcass\\anaconda3\\envs\\pg\\lib\\site-packages (from jinja2->notebook->jupyter->geometadp==0.1.0.dev0) (1.1.1)\n",
      "Requirement already satisfied: pywinpty>=0.5; os_name == \"nt\" in c:\\users\\gcass\\anaconda3\\envs\\pg\\lib\\site-packages (from terminado>=0.8.3->notebook->jupyter->geometadp==0.1.0.dev0) (0.5.7)\n",
      "Requirement already satisfied: async-generator in c:\\users\\gcass\\anaconda3\\envs\\pg\\lib\\site-packages (from nbclient<0.6.0,>=0.5.0->nbconvert->jupyter->geometadp==0.1.0.dev0) (1.10)\n",
      "Requirement already satisfied: nest-asyncio in c:\\users\\gcass\\anaconda3\\envs\\pg\\lib\\site-packages (from nbclient<0.6.0,>=0.5.0->nbconvert->jupyter->geometadp==0.1.0.dev0) (1.4.1)\n",
      "Requirement already satisfied: webencodings in c:\\users\\gcass\\anaconda3\\envs\\pg\\lib\\site-packages (from bleach->nbconvert->jupyter->geometadp==0.1.0.dev0) (0.5.1)\n",
      "Requirement already satisfied: packaging in c:\\users\\gcass\\anaconda3\\envs\\pg\\lib\\site-packages (from bleach->nbconvert->jupyter->geometadp==0.1.0.dev0) (20.4)\n",
      "Requirement already satisfied: wcwidth in c:\\users\\gcass\\anaconda3\\envs\\pg\\lib\\site-packages (from prompt-toolkit!=3.0.0,!=3.0.1,<3.1.0,>=2.0.0->jupyter-console->jupyter->geometadp==0.1.0.dev0) (0.2.5)\n",
      "Requirement already satisfied: parso>=0.5.2 in c:\\users\\gcass\\anaconda3\\envs\\pg\\lib\\site-packages (from jedi>=0.10->ipython>=4.0.0; python_version >= \"3.3\"->ipywidgets->geometadp==0.1.0.dev0) (0.5.2)\n",
      "Requirement already satisfied: pyrsistent>=0.14.0 in c:\\users\\gcass\\anaconda3\\envs\\pg\\lib\\site-packages (from jsonschema!=2.5.0,>=2.4->nbformat>=4.2.0->ipywidgets->geometadp==0.1.0.dev0) (0.17.3)\n",
      "Requirement already satisfied: importlib-metadata; python_version < \"3.8\" in c:\\users\\gcass\\anaconda3\\envs\\pg\\lib\\site-packages (from jsonschema!=2.5.0,>=2.4->nbformat>=4.2.0->ipywidgets->geometadp==0.1.0.dev0) (2.0.0)\n",
      "Requirement already satisfied: attrs>=17.4.0 in c:\\users\\gcass\\anaconda3\\envs\\pg\\lib\\site-packages (from jsonschema!=2.5.0,>=2.4->nbformat>=4.2.0->ipywidgets->geometadp==0.1.0.dev0) (20.2.0)\n",
      "Requirement already satisfied: pycparser in c:\\users\\gcass\\anaconda3\\envs\\pg\\lib\\site-packages (from cffi>=1.0.0->argon2-cffi->notebook->jupyter->geometadp==0.1.0.dev0) (2.20)\n",
      "Requirement already satisfied: pyparsing>=2.0.2 in c:\\users\\gcass\\anaconda3\\envs\\pg\\lib\\site-packages (from packaging->bleach->nbconvert->jupyter->geometadp==0.1.0.dev0) (2.4.7)\n",
      "Requirement already satisfied: zipp>=0.5 in c:\\users\\gcass\\anaconda3\\envs\\pg\\lib\\site-packages (from importlib-metadata; python_version < \"3.8\"->jsonschema!=2.5.0,>=2.4->nbformat>=4.2.0->ipywidgets->geometadp==0.1.0.dev0) (3.3.1)\n",
      "Building wheels for collected packages: geometadp\n",
      "  Building wheel for geometadp (setup.py): started\n",
      "  Building wheel for geometadp (setup.py): finished with status 'done'\n",
      "  Created wheel for geometadp: filename=geometadp-0.1.0.dev0-py3-none-any.whl size=5822 sha256=19fd7ed8ac6e9e59d4fcab35230d0e2c6b3e8596a2e8c20fb74ec96d16451c73\n",
      "  Stored in directory: C:\\Users\\gcass\\AppData\\Local\\Temp\\pip-ephem-wheel-cache-7olrc7r5\\wheels\\fd\\38\\d9\\70b4e8ca9a11ae4674e85fb79a74a516c6d3fe18ce0e46df65\n",
      "Successfully built geometadp\n"
     ]
    }
   ],
   "source": [
    "!pip install git+https://github.com/BenjMy/geometadp.git\n",
    "#!pip install git+https://github.com/m-weigand/geometadp\n",
    "import IPython"
   ]
  },
  {
   "cell_type": "code",
   "execution_count": 2,
   "metadata": {},
   "outputs": [
    {
     "data": {
      "application/vnd.jupyter.widget-view+json": {
       "model_id": "276ea76f4b4d4c558cade67c58175a25",
       "version_major": 2,
       "version_minor": 0
      },
      "text/plain": [
       "VBox(children=(VBox(children=(HTML(value='<h2>Data Manager and Metadata Collector for CGAGS<h2/>'), HTML(value…"
      ]
     },
     "metadata": {},
     "output_type": "display_data"
    }
   ],
   "source": [
    "%gui qt\n",
    "import geometadp\n",
    "obj = geometadp.geo_metadata()\n",
    "obj.manage()"
   ]
  },
  {
   "cell_type": "code",
   "execution_count": null,
   "metadata": {},
   "outputs": [],
   "source": []
  },
  {
   "cell_type": "code",
   "execution_count": null,
   "metadata": {},
   "outputs": [],
   "source": []
  }
 ],
 "metadata": {
  "kernelspec": {
   "display_name": "Python 3",
   "language": "python",
   "name": "python3"
  },
  "language_info": {
   "codemirror_mode": {
    "name": "ipython",
    "version": 3
   },
   "file_extension": ".py",
   "mimetype": "text/x-python",
   "name": "python",
   "nbconvert_exporter": "python",
   "pygments_lexer": "ipython3",
   "version": "3.7.8"
  }
 },
 "nbformat": 4,
 "nbformat_minor": 4
}
