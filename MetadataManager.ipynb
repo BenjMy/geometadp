{
 "cells": [
  {
   "cell_type": "code",
   "execution_count": 1,
   "metadata": {
    "iooxa": {
     "id": {
      "block": "saN4OAujye1tHL4Bwsvr",
      "project": "yTaXFIm6WUSKXnm1tgFK",
      "version": 1
     },
     "outputId": {
      "block": "84XBISnVnlBhXlc3r4rt",
      "project": "yTaXFIm6WUSKXnm1tgFK",
      "version": 1
     }
    }
   },
   "outputs": [],
   "source": [
    "#!pip install git+https://github.com/BenjMy/geometadp.git\n",
    "#!pip install git+https://github.com/m-weigand/geometadp\n",
    "import IPython"
   ]
  },
  {
   "cell_type": "code",
   "execution_count": 2,
   "metadata": {
    "iooxa": {
     "id": {
      "block": "ySKVzqqYEVM3e85OcDpJ",
      "project": "yTaXFIm6WUSKXnm1tgFK",
      "version": 1
     },
     "outputId": {
      "block": "zEVotNAQuhuktRtpfR6z",
      "project": "yTaXFIm6WUSKXnm1tgFK",
      "version": 1
     }
    }
   },
   "outputs": [],
   "source": [
    "#%gui qt\n",
    "#import geometadp\n",
    "#obj = geometadp.geo_metadata()\n",
    "#obj.manage()"
   ]
  },
  {
   "cell_type": "code",
   "execution_count": 3,
   "metadata": {
    "iooxa": {
     "id": {
      "block": "brg8k3qvLFy1e52iAWWy",
      "project": "yTaXFIm6WUSKXnm1tgFK",
      "version": 1
     },
     "outputId": {
      "block": "plYXzslUCCNqTO4LxsL2",
      "project": "yTaXFIm6WUSKXnm1tgFK",
      "version": 1
     }
    },
    "scrolled": true
   },
   "outputs": [
    {
     "data": {
      "application/vnd.jupyter.widget-view+json": {
       "model_id": "15adafc6542c49b7adc64630fc66f108",
       "version_major": 2,
       "version_minor": 0
      },
      "text/plain": [
       "Tab(children=(VBox(children=(VBox(children=(HTML(value='<h2>Data Manager and Metadata Collector for CGAGS - DE…"
      ]
     },
     "metadata": {},
     "output_type": "display_data"
    }
   ],
   "source": [
    "%gui qt\n",
    "import lib.geometadp.md_manager as test\n",
    "obj = test.geo_metadata()\n",
    "obj.manage()"
   ]
  },
  {
   "cell_type": "code",
   "execution_count": null,
   "metadata": {},
   "outputs": [],
   "source": []
  },
  {
   "cell_type": "code",
   "execution_count": null,
   "metadata": {},
   "outputs": [],
   "source": []
  }
 ],
 "metadata": {
  "iooxa": {
   "id": {
    "block": "G9SVM3G6TdEdBDvY4Z8P",
    "project": "yTaXFIm6WUSKXnm1tgFK",
    "version": 1
   }
  },
  "kernelspec": {
   "display_name": "Python 3",
   "language": "python",
   "name": "python3"
  },
  "language_info": {
   "codemirror_mode": {
    "name": "ipython",
    "version": 3
   },
   "file_extension": ".py",
   "mimetype": "text/x-python",
   "name": "python",
   "nbconvert_exporter": "python",
   "pygments_lexer": "ipython3",
   "version": "3.7.8"
  }
 },
 "nbformat": 4,
 "nbformat_minor": 4
}
