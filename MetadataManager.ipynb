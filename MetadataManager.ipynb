{
 "cells": [
  {
   "cell_type": "code",
   "execution_count": 3,
   "metadata": {
    "iooxa": {
     "id": {
      "block": "brg8k3qvLFy1e52iAWWy",
      "project": "yTaXFIm6WUSKXnm1tgFK",
      "version": 1
     },
     "outputId": {
      "block": "plYXzslUCCNqTO4LxsL2",
      "project": "yTaXFIm6WUSKXnm1tgFK",
      "version": 1
     }
    },
    "scrolled": true
   },
   "outputs": [
    {
     "data": {
      "text/html": [
       "<script>Jupyter.notebook.kernel.restart()</script>"
      ]
     },
     "metadata": {},
     "output_type": "display_data"
    }
   ],
   "source": [
    "from IPython.display import display_html\n",
    "def restartkernel() :\n",
    "    display_html(\"<script>Jupyter.notebook.kernel.restart()</script>\",raw=True)\n",
    "restartkernel()"
   ]
  },
  {
   "cell_type": "markdown",
   "metadata": {},
   "source": [
    "### Full metadata manager (still under dev)\n",
    "developement of a json import fct (see below)"
   ]
  },
  {
   "cell_type": "code",
   "execution_count": 5,
   "metadata": {},
   "outputs": [
    {
     "data": {
      "application/vnd.jupyter.widget-view+json": {
       "model_id": "4c8eb0ea5d7f4cddbdbf57cfc5a94e60",
       "version_major": 2,
       "version_minor": 0
      },
      "text/plain": [
       "Tab(children=(VBox(children=(VBox(children=(VBox(children=(HTML(value='<h2>Data Manager and Metadata Collector…"
      ]
     },
     "metadata": {},
     "output_type": "display_data"
    }
   ],
   "source": [
    "from lib.geometadp import md_manager\n",
    "obj = md_manager.geo_metadata()\n",
    "obj.manage()"
   ]
  },
  {
   "cell_type": "markdown",
   "metadata": {},
   "source": [
    "### Trial with Json import\n",
    "\n",
    "The idea is to propose Json formatted templates for the users to prefill the metadata. Another benefit of this approach would be to avoid to fill again in case of multiple datasets to document.\n",
    "\n",
    "I use the Json file located in the same folder namely 'json2import.json'"
   ]
  },
  {
   "cell_type": "code",
   "execution_count": 6,
   "metadata": {},
   "outputs": [
    {
     "name": "stdout",
     "output_type": "stream",
     "text": [
      "json file uploaded?: False\n"
     ]
    },
    {
     "data": {
      "application/vnd.jupyter.widget-view+json": {
       "model_id": "2347d281d020479fa1e1ae1aee0d1791",
       "version_major": 2,
       "version_minor": 0
      },
      "text/plain": [
       "Tab(children=(VBox(children=(VBox(children=(HTML(value='<h2>upload json file<h2/>'), HTML(value='\\n        Rep…"
      ]
     },
     "metadata": {},
     "output_type": "display_data"
    }
   ],
   "source": [
    "import IPython\n",
    "%gui qt\n",
    "#from lib.geometadp import md_manager\n",
    "from lib.geometadp import test_upload\n",
    "obj = test_upload.geo_metadata()\n",
    "obj.manage()"
   ]
  },
  {
   "cell_type": "markdown",
   "metadata": {},
   "source": [
    "### Issue\n",
    "\n",
    "There is no error, the exported tab show an updated value of the 'metadata to fill' while the field from the widget.text does NOT update. \n",
    "\n",
    "\n",
    "Any idea why ?"
   ]
  },
  {
   "cell_type": "code",
   "execution_count": null,
   "metadata": {},
   "outputs": [],
   "source": []
  },
  {
   "cell_type": "code",
   "execution_count": null,
   "metadata": {},
   "outputs": [],
   "source": []
  }
 ],
 "metadata": {
  "iooxa": {
   "id": {
    "block": "G9SVM3G6TdEdBDvY4Z8P",
    "project": "yTaXFIm6WUSKXnm1tgFK",
    "version": 1
   }
  },
  "kernelspec": {
   "display_name": "Python 3",
   "language": "python",
   "name": "python3"
  },
  "language_info": {
   "codemirror_mode": {
    "name": "ipython",
    "version": 3
   },
   "file_extension": ".py",
   "mimetype": "text/x-python",
   "name": "python",
   "nbconvert_exporter": "python",
   "pygments_lexer": "ipython3",
   "version": "3.7.9"
  }
 },
 "nbformat": 4,
 "nbformat_minor": 4
}
