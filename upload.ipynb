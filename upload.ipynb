{
 "cells": [
  {
   "cell_type": "markdown",
   "id": "historical-happiness",
   "metadata": {},
   "source": [
    "### Trial with Json import\n",
    "\n",
    "The idea is to propose Json formatted templates for the users to prefill the metadata. Another benefit of this approach would be to avoid to fill again in case of multiple datasets to document.\n",
    "\n",
    "I use the Json file located in the same folder namely 'json2import.json'"
   ]
  },
  {
   "cell_type": "code",
   "execution_count": 1,
   "id": "ideal-disposal",
   "metadata": {},
   "outputs": [
    {
     "data": {
      "application/vnd.jupyter.widget-view+json": {
       "model_id": "",
       "version_major": 2,
       "version_minor": 0
      },
      "text/plain": [
       "Tab(children=(VBox(children=(VBox(children=(HTML(value='<h2>upload json file<h2/>'), HTML(value='\\n        Rep…"
      ]
     },
     "metadata": {},
     "output_type": "display_data"
    }
   ],
   "source": [
    "import IPython\n",
    "%gui qt\n",
    "#from lib.geometadp import md_manager\n",
    "from lib.geometadp import test_upload\n",
    "obj = test_upload.geo_metadata()\n",
    "obj.manage()"
   ]
  }
 ],
 "metadata": {
  "kernelspec": {
   "display_name": "Python 3",
   "language": "python",
   "name": "python3"
  },
  "language_info": {
   "codemirror_mode": {
    "name": "ipython",
    "version": 3
   },
   "file_extension": ".py",
   "mimetype": "text/x-python",
   "name": "python",
   "nbconvert_exporter": "python",
   "pygments_lexer": "ipython3",
   "version": "3.7.9"
  }
 },
 "nbformat": 4,
 "nbformat_minor": 5
}
