{
 "cells": [
  {
   "cell_type": "markdown",
   "id": "historical-happiness",
   "metadata": {},
   "source": [
    "### Trial with Json import\n",
    "\n",
    "The idea is to propose Json formatted templates for the users to prefill the metadata. Another benefit of this approach would be to avoid to fill again in case of multiple datasets to document.\n",
    "\n",
    "I use the Json file located in the same folder namely 'json2import.json'"
   ]
  },
  {
   "cell_type": "code",
   "execution_count": null,
   "id": "oriental-atlanta",
   "metadata": {},
   "outputs": [
    {
     "data": {
      "text/html": [
       "<script>Jupyter.notebook.kernel.restart()</script>"
      ]
     },
     "metadata": {},
     "output_type": "display_data"
    }
   ],
   "source": [
    "from IPython.display import display_html\n",
    "def restartkernel() :\n",
    "    display_html(\"<script>Jupyter.notebook.kernel.restart()</script>\",raw=True)\n",
    "restartkernel()"
   ]
  },
  {
   "cell_type": "code",
   "execution_count": 1,
   "id": "ideal-disposal",
   "metadata": {},
   "outputs": [
    {
     "data": {
      "application/vnd.jupyter.widget-view+json": {
       "model_id": "5270b946c1494788a00c3a14cb404654",
       "version_major": 2,
       "version_minor": 0
      },
      "text/plain": [
       "Tab(children=(VBox(children=(VBox(children=(HTML(value='<h2>upload json file<h2/>'), HTML(value='\\n        Rep…"
      ]
     },
     "metadata": {},
     "output_type": "display_data"
    },
    {
     "name": "stdout",
     "output_type": "stream",
     "text": [
      "Upload file\n"
     ]
    }
   ],
   "source": [
    "import IPython\n",
    "%gui qt\n",
    "#from lib.geometadp import md_manager\n",
    "from lib.geometadp import test_upload\n",
    "\n",
    "obj = test_upload.geo_metadata()\n",
    "obj.manage()"
   ]
  },
  {
   "cell_type": "code",
   "execution_count": 3,
   "id": "vulnerable-american",
   "metadata": {},
   "outputs": [
    {
     "name": "stdout",
     "output_type": "stream",
     "text": [
      "<ul>\n",
      "<li>mushrooms</li>\n",
      "<li>peppers</li>\n",
      "<li>pepparoni</li>\n",
      "<li>steak</li>\n",
      "<li>walnuts</li>\n",
      "<li>goat cheese</li>\n",
      "<li>eggplant</li>\n",
      "<li>garlic sauce</li>\n",
      "</ul>\n"
     ]
    }
   ],
   "source": [
    "def print_ul(elements):\n",
    "    print(\"<ul>\")\n",
    "    for s in elements:\n",
    "        ul = \"<li>\" + str(s) + \"</li>\"\n",
    "        print(ul)\n",
    "    print(\"</ul>\")\n",
    "\n",
    "toppings = ['mushrooms', 'peppers', 'pepparoni', 'steak', 'walnuts', 'goat cheese', 'eggplant', 'garlic sauce'];\n",
    "print_ul(toppings)"
   ]
  },
  {
   "cell_type": "code",
   "execution_count": 2,
   "id": "accessory-cover",
   "metadata": {},
   "outputs": [
    {
     "name": "stdout",
     "output_type": "stream",
     "text": [
      "Before modification: Adam\n",
      "After modification: John\n"
     ]
    }
   ],
   "source": [
    "class Person:\n",
    "    name = 'Adam'\n",
    "    \n",
    "p = Person()\n",
    "print('Before modification:', p.name)\n",
    "\n",
    "# setting name to 'John'\n",
    "setattr(p, 'name', 'John')\n",
    "\n",
    "print('After modification:', p.name)"
   ]
  }
 ],
 "metadata": {
  "kernelspec": {
   "display_name": "Python 3",
   "language": "python",
   "name": "python3"
  },
  "language_info": {
   "codemirror_mode": {
    "name": "ipython",
    "version": 3
   },
   "file_extension": ".py",
   "mimetype": "text/x-python",
   "name": "python",
   "nbconvert_exporter": "python",
   "pygments_lexer": "ipython3",
   "version": "3.7.9"
  }
 },
 "nbformat": 4,
 "nbformat_minor": 5
}
