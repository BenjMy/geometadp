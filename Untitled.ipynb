{
 "cells": [
  {
   "cell_type": "code",
   "execution_count": 1,
   "metadata": {},
   "outputs": [
    {
     "data": {
      "application/vnd.jupyter.widget-view+json": {
       "model_id": "8cde9306fef047c1abae1a0b64a722ed",
       "version_major": 2,
       "version_minor": 0
      },
      "text/plain": [
       "VBox(children=(IntSlider(value=50, description='size:'), IntSlider(value=20, description='size1:', max=50)))"
      ]
     },
     "metadata": {},
     "output_type": "display_data"
    },
    {
     "data": {
      "application/vnd.jupyter.widget-view+json": {
       "model_id": "d9e220d53fda43b388ee0517ab99929e",
       "version_major": 2,
       "version_minor": 0
      },
      "text/plain": [
       "Tab(children=(Output(), Output()), _titles={'0': 'hist', '1': 'box'})"
      ]
     },
     "metadata": {},
     "output_type": "display_data"
    }
   ],
   "source": [
    "import ipywidgets as widgets\n",
    "from ipywidgets import HBox, VBox, Button, Layout, Label\n",
    "from ipywidgets import interact, interactive, fixed, interact_manual\n",
    "\n",
    "size = widgets.IntSlider(value=50, min=0,max=100,step=1, description='size:')\n",
    "size1 = widgets.IntSlider(value=20, min=0,max=50,step=1, description='size1:')\n",
    "\n",
    "def hist1(size):\n",
    "    data = pd.DataFrame(np.random.normal(size = size))\n",
    "    data.plot.hist()\n",
    "    return\n",
    "\n",
    "def hist2(size1):\n",
    "    data = pd.DataFrame(np.random.normal(size = size1))\n",
    "    data.plot.box()\n",
    "    return\n",
    "\n",
    "ui = widgets.VBox([size,size1])\n",
    "\n",
    "out1 = widgets.interactive_output(hist1, {'size':size})\n",
    "out2 = widgets.interactive_output(hist2, {'size1':size1})\n",
    "\n",
    "tab  = widgets.Tab(children = [out1, out2])\n",
    "tab.set_title(0, 'hist')\n",
    "tab.set_title(1, 'box')\n",
    "\n",
    "display(ui,tab)"
   ]
  },
  {
   "cell_type": "code",
   "execution_count": null,
   "metadata": {},
   "outputs": [],
   "source": []
  }
 ],
 "metadata": {
  "kernelspec": {
   "display_name": "Python 3",
   "language": "python",
   "name": "python3"
  },
  "language_info": {
   "codemirror_mode": {
    "name": "ipython",
    "version": 3
   },
   "file_extension": ".py",
   "mimetype": "text/x-python",
   "name": "python",
   "nbconvert_exporter": "python",
   "pygments_lexer": "ipython3",
   "version": "3.7.8"
  }
 },
 "nbformat": 4,
 "nbformat_minor": 4
}
