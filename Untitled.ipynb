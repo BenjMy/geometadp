{
 "cells": [
  {
   "cell_type": "code",
   "execution_count": 3,
   "id": "continental-precipitation",
   "metadata": {},
   "outputs": [
    {
     "data": {
      "application/vnd.jupyter.widget-view+json": {
       "model_id": "ae3b612a311e4ce09d83710f2a24de3e",
       "version_major": 2,
       "version_minor": 0
      },
      "text/plain": [
       "VBox(children=(IntSlider(value=100, description='Maximum', max=200, min=100), IntSlider(value=40, description=…"
      ]
     },
     "metadata": {},
     "output_type": "display_data"
    }
   ],
   "source": [
    "from ipywidgets import VBox, jsdlink, IntSlider\n",
    "s1 = IntSlider(description='Maximum', min=100, max=200, value=100)\n",
    "s2 = IntSlider(description='Value', value=40)\n",
    "jsdlink((s1, 'value'), (s2, 'max'))\n",
    "VBox([s1, s2])"
   ]
  }
 ],
 "metadata": {
  "kernelspec": {
   "display_name": "Python 3",
   "language": "python",
   "name": "python3"
  },
  "language_info": {
   "codemirror_mode": {
    "name": "ipython",
    "version": 3
   },
   "file_extension": ".py",
   "mimetype": "text/x-python",
   "name": "python",
   "nbconvert_exporter": "python",
   "pygments_lexer": "ipython3",
   "version": "3.7.9"
  }
 },
 "nbformat": 4,
 "nbformat_minor": 5
}
